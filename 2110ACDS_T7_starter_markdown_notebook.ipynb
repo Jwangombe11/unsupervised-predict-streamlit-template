{
  "cells": [
    {
      "cell_type": "markdown",
      "metadata": {
        "id": "view-in-github",
        "colab_type": "text"
      },
      "source": [
        "<a href=\"https://colab.research.google.com/github/Jwangombe11/unsupervised-predict-streamlit-template/blob/master/2110ACDS_T7_starter_markdown_notebook.ipynb\" target=\"_parent\"><img src=\"https://colab.research.google.com/assets/colab-badge.svg\" alt=\"Open In Colab\"/></a>"
      ]
    },
    {
      "cell_type": "markdown",
      "id": "6c7e849a",
      "metadata": {
        "ExecuteTime": {
          "end_time": "2021-06-11T09:24:53.643384Z",
          "start_time": "2021-06-11T09:24:53.622385Z"
        },
        "id": "6c7e849a"
      },
      "source": [
        "# Clasification Predict Student Solution\n",
        "\n",
        "© Explore Data Science Academy\n",
        "\n",
        "---\n",
        "### Honour Code\n",
        "\n",
        "{**2110ACDS_T7**}, confirm - by submitting this document - that the solutions in this notebook are a result of my own work and that I abide by the [EDSA honour code](https://drive.google.com/file/d/1QDCjGZJ8-FmJE3bZdIQNwnJyQKPhHZBn/view?usp=sharing).\n",
        "\n",
        "Non-compliance with the honour code constitutes a material breach of contract.\n",
        "\n",
        "\n",
        "  "
      ]
    },
    {
      "cell_type": "markdown",
      "id": "05600c92",
      "metadata": {
        "id": "05600c92"
      },
      "source": [
        "<a id=\"cont\"></a>\n",
        "\n",
        "## Table of Contents\n",
        "\n",
        "<a href=#one>1. Importing Packages</a>\n",
        "\n",
        "<a href=#two>2. Loading Data</a>\n",
        "\n",
        "<a href=#three>3. Exploratory Data Analysis (EDA)</a>\n",
        "\n",
        "<a href=#four>4. Data Engineering</a>\n",
        "\n",
        "<a href=#five>5. Preprocessing of test data</a>\n",
        "\n",
        "<a href=#six>6. Modeling</a>\n",
        "\n",
        "<a href=#seven>7. Model Performance</a>\n",
        "\n",
        "<a href=#eight>8. Model Explanations</a>"
      ]
    },
    {
      "cell_type": "markdown",
      "id": "997462e2",
      "metadata": {
        "id": "997462e2"
      },
      "source": [
        " <a id=\"one\"></a>\n",
        "## 1. Importing Packages\n",
        "<a href=#cont>Back to Table of Contents</a>\n",
        "\n",
        "---\n",
        "    \n",
        "| ⚡ Description: Importing Packages ⚡ |\n",
        "| :--------------------------- |\n",
        "| In this section you are required to import, and briefly discuss, the libraries that will be used throughout your analysis and modelling. |\n",
        "\n",
        "---"
      ]
    },
    {
      "cell_type": "markdown",
      "source": [
        "### 1.1 Loading experiments to Comet ML  \n",
        "\n",
        ">Comet is a great tool for model versioning and experimentation as it records the parameters and conditions from each of the experiements- allowing reproducability of results, or go back to a previous version of the experiment.  \n",
        "\n",
        ">Record of the experiments will be stored in the Advanced-classification project\n"
      ],
      "metadata": {
        "id": "4kxAYRlRbYJY"
      },
      "id": "4kxAYRlRbYJY"
    },
    {
      "cell_type": "code",
      "source": [
        "!pip install comet_ml"
      ],
      "metadata": {
        "id": "IFt4nMZrclfF",
        "colab": {
          "base_uri": "https://localhost:8080/"
        },
        "outputId": "7ece8f37-2454-45ec-fa5f-a17c7c36fd4c"
      },
      "id": "IFt4nMZrclfF",
      "execution_count": null,
      "outputs": [
        {
          "output_type": "stream",
          "name": "stdout",
          "text": [
            "Collecting comet_ml\n",
            "  Downloading comet_ml-3.28.2-py2.py3-none-any.whl (342 kB)\n",
            "\u001b[?25l\r\u001b[K     |█                               | 10 kB 26.5 MB/s eta 0:00:01\r\u001b[K     |██                              | 20 kB 31.3 MB/s eta 0:00:01\r\u001b[K     |██▉                             | 30 kB 20.4 MB/s eta 0:00:01\r\u001b[K     |███▉                            | 40 kB 17.2 MB/s eta 0:00:01\r\u001b[K     |████▉                           | 51 kB 8.6 MB/s eta 0:00:01\r\u001b[K     |█████▊                          | 61 kB 10.0 MB/s eta 0:00:01\r\u001b[K     |██████▊                         | 71 kB 9.9 MB/s eta 0:00:01\r\u001b[K     |███████▋                        | 81 kB 10.2 MB/s eta 0:00:01\r\u001b[K     |████████▋                       | 92 kB 11.2 MB/s eta 0:00:01\r\u001b[K     |█████████▋                      | 102 kB 9.4 MB/s eta 0:00:01\r\u001b[K     |██████████▌                     | 112 kB 9.4 MB/s eta 0:00:01\r\u001b[K     |███████████▌                    | 122 kB 9.4 MB/s eta 0:00:01\r\u001b[K     |████████████▍                   | 133 kB 9.4 MB/s eta 0:00:01\r\u001b[K     |█████████████▍                  | 143 kB 9.4 MB/s eta 0:00:01\r\u001b[K     |██████████████▍                 | 153 kB 9.4 MB/s eta 0:00:01\r\u001b[K     |███████████████▎                | 163 kB 9.4 MB/s eta 0:00:01\r\u001b[K     |████████████████▎               | 174 kB 9.4 MB/s eta 0:00:01\r\u001b[K     |█████████████████▏              | 184 kB 9.4 MB/s eta 0:00:01\r\u001b[K     |██████████████████▏             | 194 kB 9.4 MB/s eta 0:00:01\r\u001b[K     |███████████████████▏            | 204 kB 9.4 MB/s eta 0:00:01\r\u001b[K     |████████████████████            | 215 kB 9.4 MB/s eta 0:00:01\r\u001b[K     |█████████████████████           | 225 kB 9.4 MB/s eta 0:00:01\r\u001b[K     |██████████████████████          | 235 kB 9.4 MB/s eta 0:00:01\r\u001b[K     |███████████████████████         | 245 kB 9.4 MB/s eta 0:00:01\r\u001b[K     |████████████████████████        | 256 kB 9.4 MB/s eta 0:00:01\r\u001b[K     |████████████████████████▉       | 266 kB 9.4 MB/s eta 0:00:01\r\u001b[K     |█████████████████████████▉      | 276 kB 9.4 MB/s eta 0:00:01\r\u001b[K     |██████████████████████████▊     | 286 kB 9.4 MB/s eta 0:00:01\r\u001b[K     |███████████████████████████▊    | 296 kB 9.4 MB/s eta 0:00:01\r\u001b[K     |████████████████████████████▊   | 307 kB 9.4 MB/s eta 0:00:01\r\u001b[K     |█████████████████████████████▋  | 317 kB 9.4 MB/s eta 0:00:01\r\u001b[K     |██████████████████████████████▋ | 327 kB 9.4 MB/s eta 0:00:01\r\u001b[K     |███████████████████████████████▋| 337 kB 9.4 MB/s eta 0:00:01\r\u001b[K     |████████████████████████████████| 342 kB 9.4 MB/s \n",
            "\u001b[?25hRequirement already satisfied: requests>=2.18.4 in /usr/local/lib/python3.7/dist-packages (from comet_ml) (2.23.0)\n",
            "Requirement already satisfied: nvidia-ml-py3>=7.352.0 in /usr/local/lib/python3.7/dist-packages (from comet_ml) (7.352.0)\n",
            "Collecting dulwich!=0.20.33,>=0.20.6\n",
            "  Downloading dulwich-0.20.35-cp37-cp37m-manylinux_2_5_x86_64.manylinux1_x86_64.manylinux_2_12_x86_64.manylinux2010_x86_64.whl (551 kB)\n",
            "\u001b[K     |████████████████████████████████| 551 kB 63.9 MB/s \n",
            "\u001b[?25hCollecting semantic-version>=2.8.0\n",
            "  Downloading semantic_version-2.9.0-py2.py3-none-any.whl (15 kB)\n",
            "Requirement already satisfied: six in /usr/local/lib/python3.7/dist-packages (from comet_ml) (1.15.0)\n",
            "Collecting requests-toolbelt>=0.8.0\n",
            "  Downloading requests_toolbelt-0.9.1-py2.py3-none-any.whl (54 kB)\n",
            "\u001b[K     |████████████████████████████████| 54 kB 3.7 MB/s \n",
            "\u001b[?25hRequirement already satisfied: wrapt>=1.11.2 in /usr/local/lib/python3.7/dist-packages (from comet_ml) (1.14.0)\n",
            "Requirement already satisfied: jsonschema!=3.1.0,>=2.6.0 in /usr/local/lib/python3.7/dist-packages (from comet_ml) (4.3.3)\n",
            "Collecting websocket-client>=0.55.0\n",
            "  Downloading websocket_client-1.3.2-py3-none-any.whl (54 kB)\n",
            "\u001b[K     |████████████████████████████████| 54 kB 3.4 MB/s \n",
            "\u001b[?25hCollecting everett[ini]>=1.0.1\n",
            "  Downloading everett-3.0.0-py2.py3-none-any.whl (35 kB)\n",
            "Collecting wurlitzer>=1.0.2\n",
            "  Downloading wurlitzer-3.0.2-py3-none-any.whl (7.3 kB)\n",
            "Requirement already satisfied: certifi in /usr/local/lib/python3.7/dist-packages (from dulwich!=0.20.33,>=0.20.6->comet_ml) (2021.10.8)\n",
            "Requirement already satisfied: urllib3>=1.24.1 in /usr/local/lib/python3.7/dist-packages (from dulwich!=0.20.33,>=0.20.6->comet_ml) (1.24.3)\n",
            "Collecting configobj\n",
            "  Downloading configobj-5.0.6.tar.gz (33 kB)\n",
            "Requirement already satisfied: importlib-metadata in /usr/local/lib/python3.7/dist-packages (from jsonschema!=3.1.0,>=2.6.0->comet_ml) (4.11.3)\n",
            "Requirement already satisfied: pyrsistent!=0.17.0,!=0.17.1,!=0.17.2,>=0.14.0 in /usr/local/lib/python3.7/dist-packages (from jsonschema!=3.1.0,>=2.6.0->comet_ml) (0.18.1)\n",
            "Requirement already satisfied: attrs>=17.4.0 in /usr/local/lib/python3.7/dist-packages (from jsonschema!=3.1.0,>=2.6.0->comet_ml) (21.4.0)\n",
            "Requirement already satisfied: importlib-resources>=1.4.0 in /usr/local/lib/python3.7/dist-packages (from jsonschema!=3.1.0,>=2.6.0->comet_ml) (5.4.0)\n",
            "Requirement already satisfied: typing-extensions in /usr/local/lib/python3.7/dist-packages (from jsonschema!=3.1.0,>=2.6.0->comet_ml) (3.10.0.2)\n",
            "Requirement already satisfied: zipp>=3.1.0 in /usr/local/lib/python3.7/dist-packages (from importlib-resources>=1.4.0->jsonschema!=3.1.0,>=2.6.0->comet_ml) (3.7.0)\n",
            "Requirement already satisfied: chardet<4,>=3.0.2 in /usr/local/lib/python3.7/dist-packages (from requests>=2.18.4->comet_ml) (3.0.4)\n",
            "Requirement already satisfied: idna<3,>=2.5 in /usr/local/lib/python3.7/dist-packages (from requests>=2.18.4->comet_ml) (2.10)\n",
            "Building wheels for collected packages: configobj\n",
            "  Building wheel for configobj (setup.py) ... \u001b[?25l\u001b[?25hdone\n",
            "  Created wheel for configobj: filename=configobj-5.0.6-py3-none-any.whl size=34547 sha256=f0031eac4937e6c51e898ea36ac6e972d7ac4c7e4931e5c21ea2ee95cd1022d7\n",
            "  Stored in directory: /root/.cache/pip/wheels/0d/c4/19/13d74440f2a571841db6b6e0a273694327498884dafb9cf978\n",
            "Successfully built configobj\n",
            "Installing collected packages: everett, configobj, wurlitzer, websocket-client, semantic-version, requests-toolbelt, dulwich, comet-ml\n",
            "Successfully installed comet-ml-3.28.2 configobj-5.0.6 dulwich-0.20.35 everett-3.0.0 requests-toolbelt-0.9.1 semantic-version-2.9.0 websocket-client-1.3.2 wurlitzer-3.0.2\n"
          ]
        }
      ]
    },
    {
      "cell_type": "code",
      "execution_count": null,
      "id": "14e96617",
      "metadata": {
        "id": "14e96617"
      },
      "outputs": [],
      "source": [
        "# import comet_ml at the top of your file\n",
        "\n",
        "\n",
        "# Create an experiment with your api key\n"
      ]
    },
    {
      "cell_type": "markdown",
      "source": [
        "### 1.2 Brief Description of Libraries \n"
      ],
      "metadata": {
        "id": "1CN9sd1fzzzg"
      },
      "id": "1CN9sd1fzzzg"
    },
    {
      "cell_type": "code",
      "execution_count": null,
      "id": "475dbe93",
      "metadata": {
        "ExecuteTime": {
          "end_time": "2021-06-23T10:30:53.800892Z",
          "start_time": "2021-06-23T10:30:50.215449Z"
        },
        "id": "475dbe93"
      },
      "outputs": [],
      "source": [
        "# Libraries for importing and loading data\n",
        "\n",
        "# Setting global constants to ensure notebook results are reproducible\n",
        "\n",
        "\n",
        "\n"
      ]
    },
    {
      "cell_type": "markdown",
      "id": "f22a6718",
      "metadata": {
        "id": "f22a6718"
      },
      "source": [
        "<a id=\"two\"></a>\n",
        "## 2. Loading the Data\n",
        "<a class=\"anchor\" id=\"1.1\"></a>\n",
        "<a href=#cont>Back to Table of Contents</a>\n",
        "\n",
        "---\n",
        "    \n",
        "| ⚡ Description: Loading the data ⚡ |\n",
        "| :--------------------------- |\n",
        "| In this section you are required to load the data from the `df_train` file into a DataFrame. |\n",
        "\n",
        "---"
      ]
    },
    {
      "cell_type": "markdown",
      "id": "81132ab3",
      "metadata": {
        "id": "81132ab3"
      },
      "source": [
        "<a id=\"three\"></a>\n",
        "## 3. Exploratory Data Analysis (EDA)\n",
        "<a class=\"anchor\" id=\"1.1\"></a>\n",
        "<a href=#cont>Back to Table of Contents</a>\n",
        "\n",
        "---\n",
        "    \n",
        "| ⚡ Description: Exploratory data analysis ⚡ |\n",
        "| :--------------------------- |\n",
        "| In this section, you are required to perform an in-depth analysis of all the variables in the DataFrame. |\n",
        "\n",
        "---\n"
      ]
    },
    {
      "cell_type": "markdown",
      "id": "3fa93ec6",
      "metadata": {
        "id": "3fa93ec6"
      },
      "source": [
        "<a id=\"four\"></a>\n",
        "## 4. Feature Engineering\n",
        "<a class=\"anchor\" id=\"1.1\"></a>\n",
        "<a href=#cont>Back to Table of Contents</a>\n",
        "\n",
        "---\n",
        "    \n",
        "| ⚡ Description: Data engineering ⚡ |\n",
        "| :--------------------------- |\n",
        "| In this section you are required to: clean the dataset, and possibly create new features - as identified in the EDA phase. |\n",
        "\n",
        "---"
      ]
    },
    {
      "cell_type": "markdown",
      "source": [
        "<a id=\"five\"></a>\n",
        "## 5. Preprocessing the test data\n",
        "<a class=\"anchor\" id=\"1.1\"></a>\n",
        "<a href=#cont>Back to Table of Contents</a>\n",
        "\n",
        "---\n",
        "    \n",
        "| ⚡ Description: Preprocessing Test data ⚡ |\n",
        "| :--------------------------- |\n",
        "| In this section, you are required to ensure that all the data transformation done to train dataset has been done to the test dataset. |\n",
        "\n",
        "---"
      ],
      "metadata": {
        "id": "Kwa52O8uOI6x"
      },
      "id": "Kwa52O8uOI6x"
    },
    {
      "cell_type": "markdown",
      "id": "43b2d523",
      "metadata": {
        "id": "43b2d523"
      },
      "source": [
        "<a id=\"six\"></a>\n",
        "## 6. Modelling\n",
        "<a class=\"anchor\" id=\"1.1\"></a>\n",
        "<a href=#cont>Back to Table of Contents</a>\n",
        "\n",
        "---\n",
        "    \n",
        "| ⚡ Description: Modelling ⚡ |\n",
        "| :--------------------------- |\n",
        "| In this section, you are required to create one or more regression models that are able to accurately predict the the recommended movie. |\n",
        "\n",
        "---"
      ]
    },
    {
      "cell_type": "markdown",
      "id": "6b530251",
      "metadata": {
        "id": "6b530251"
      },
      "source": [
        "<a id=\"seven\"></a>\n",
        "## 7. Model Performance\n",
        "<a class=\"anchor\" id=\"1.1\"></a>\n",
        "<a href=#cont>Back to Table of Contents</a>\n",
        "\n",
        "---\n",
        "    \n",
        "| ⚡ Description: Model performance ⚡ |\n",
        "| :--------------------------- |\n",
        "| In this section you are required to compare the relative performance of the various trained ML models on a holdout dataset and comment on what model is the best and why. |\n",
        "\n",
        "---"
      ]
    },
    {
      "cell_type": "markdown",
      "id": "a8ad0c0d",
      "metadata": {
        "id": "a8ad0c0d"
      },
      "source": [
        "<a id=\"eight\"></a>\n",
        "## 8. Model Explanations\n",
        "<a class=\"anchor\" id=\"1.1\"></a>\n",
        "<a href=#cont>Back to Table of Contents</a>\n",
        "\n",
        "---\n",
        "    \n",
        "| ⚡ Description: Model explanation ⚡ |\n",
        "| :--------------------------- |\n",
        "| In this section, you are required to discuss how the best performing model works in a simple way so that both technical and non-technical stakeholders can grasp the intuition behind the model's inner workings. |\n",
        "\n",
        "---"
      ]
    }
  ],
  "metadata": {
    "colab": {
      "name": "2110ACDS_T7-starter-markdown-notebook.ipynb",
      "provenance": [],
      "collapsed_sections": [
        "98c044ea",
        "ad2f2a7d",
        "oeVT9lArIOfk",
        "NYta0K395Kql",
        "xyJGtg-QVbAL",
        "KVLhj3HNVo-y",
        "dakMZAh5V4PJ",
        "Wcx5-qK9WQzU",
        "EeLVoYJ1gHiS",
        "lmq-FYIJgeAK",
        "6iLxtoL7guIp"
      ],
      "include_colab_link": true
    },
    "kernelspec": {
      "display_name": "Python 3 (ipykernel)",
      "language": "python",
      "name": "python3"
    },
    "language_info": {
      "codemirror_mode": {
        "name": "ipython",
        "version": 3
      },
      "file_extension": ".py",
      "mimetype": "text/x-python",
      "name": "python",
      "nbconvert_exporter": "python",
      "pygments_lexer": "ipython3",
      "version": "3.8.12"
    },
    "latex_envs": {
      "LaTeX_envs_menu_present": true,
      "autoclose": false,
      "autocomplete": true,
      "bibliofile": "biblio.bib",
      "cite_by": "apalike",
      "current_citInitial": 1,
      "eqLabelWithNumbers": true,
      "eqNumInitial": 1,
      "hotkeys": {
        "equation": "Ctrl-E",
        "itemize": "Ctrl-I"
      },
      "labels_anchors": false,
      "latex_user_defs": false,
      "report_style_numbering": false,
      "user_envs_cfg": false
    },
    "toc": {
      "base_numbering": 1,
      "nav_menu": {},
      "number_sections": true,
      "sideBar": true,
      "skip_h1_title": false,
      "title_cell": "Table of Contents",
      "title_sidebar": "Contents",
      "toc_cell": false,
      "toc_position": {},
      "toc_section_display": true,
      "toc_window_display": false
    },
    "varInspector": {
      "cols": {
        "lenName": 16,
        "lenType": 16,
        "lenVar": 40
      },
      "kernels_config": {
        "python": {
          "delete_cmd_postfix": "",
          "delete_cmd_prefix": "del ",
          "library": "var_list.py",
          "varRefreshCmd": "print(var_dic_list())"
        },
        "r": {
          "delete_cmd_postfix": ") ",
          "delete_cmd_prefix": "rm(",
          "library": "var_list.r",
          "varRefreshCmd": "cat(var_dic_list()) "
        }
      },
      "types_to_exclude": [
        "module",
        "function",
        "builtin_function_or_method",
        "instance",
        "_Feature"
      ],
      "window_display": false
    }
  },
  "nbformat": 4,
  "nbformat_minor": 5
}